{
 "cells": [
  {
   "cell_type": "code",
   "execution_count": 13,
   "metadata": {},
   "outputs": [],
   "source": [
    "import sklearn.datasets\n",
    "diabetes = sklearn.datasets.load_diabetes()"
   ]
  },
  {
   "cell_type": "code",
   "execution_count": 14,
   "metadata": {},
   "outputs": [],
   "source": [
    "import pandas as pd\n",
    "import matplotlib.pyplot as plt\n",
    "import numpy as np"
   ]
  },
  {
   "cell_type": "code",
   "execution_count": 84,
   "metadata": {},
   "outputs": [
    {
     "name": "stdout",
     "output_type": "stream",
     "text": [
      "Diabetes dataset\n",
      "================\n",
      "\n",
      "Notes\n",
      "-----\n",
      "\n",
      "Ten baseline variables, age, sex, body mass index, average blood\n",
      "pressure, and six blood serum measurements were obtained for each of n =\n",
      "442 diabetes patients, as well as the response of interest, a\n",
      "quantitative measure of disease progression one year after baseline.\n",
      "\n",
      "Data Set Characteristics:\n",
      "\n",
      "  :Number of Instances: 442\n",
      "\n",
      "  :Number of Attributes: First 10 columns are numeric predictive values\n",
      "\n",
      "  :Target: Column 11 is a quantitative measure of disease progression one year after baseline\n",
      "\n",
      "  :Attributes:\n",
      "    :Age:\n",
      "    :Sex:\n",
      "    :Body mass index:\n",
      "    :Average blood pressure:\n",
      "    :S1:\n",
      "    :S2:\n",
      "    :S3:\n",
      "    :S4:\n",
      "    :S5:\n",
      "    :S6:\n",
      "\n",
      "Note: Each of these 10 feature variables have been mean centered and scaled by the standard deviation times `n_samples` (i.e. the sum of squares of each column totals 1).\n",
      "\n",
      "Source URL:\n",
      "http://www4.stat.ncsu.edu/~boos/var.select/diabetes.html\n",
      "\n",
      "For more information see:\n",
      "Bradley Efron, Trevor Hastie, Iain Johnstone and Robert Tibshirani (2004) \"Least Angle Regression,\" Annals of Statistics (with discussion), 407-499.\n",
      "(http://web.stanford.edu/~hastie/Papers/LARS/LeastAngle_2002.pdf)\n",
      "\n"
     ]
    }
   ],
   "source": [
    "print(diabetes.DESCR)"
   ]
  },
  {
   "cell_type": "code",
   "execution_count": 85,
   "metadata": {},
   "outputs": [],
   "source": [
    "x = diabetes.data"
   ]
  },
  {
   "cell_type": "code",
   "execution_count": 86,
   "metadata": {},
   "outputs": [],
   "source": [
    "y = diabetes.target"
   ]
  },
  {
   "cell_type": "code",
   "execution_count": 87,
   "metadata": {},
   "outputs": [
    {
     "name": "stdout",
     "output_type": "stream",
     "text": [
      "[[ 0.03807591  0.05068012  0.06169621  0.02187235 -0.0442235  -0.03482076\n",
      "  -0.04340085 -0.00259226  0.01990842 -0.01764613]\n",
      " [-0.00188202 -0.04464164 -0.05147406 -0.02632783 -0.00844872 -0.01916334\n",
      "   0.07441156 -0.03949338 -0.06832974 -0.09220405]\n",
      " [ 0.08529891  0.05068012  0.04445121 -0.00567061 -0.04559945 -0.03419447\n",
      "  -0.03235593 -0.00259226  0.00286377 -0.02593034]]\n"
     ]
    }
   ],
   "source": [
    "print(x[:3])"
   ]
  },
  {
   "cell_type": "code",
   "execution_count": 88,
   "metadata": {},
   "outputs": [
    {
     "name": "stdout",
     "output_type": "stream",
     "text": [
      "[151.  75. 141. 206. 135.  97. 138.  63. 110. 310. 101.  69. 179. 185.\n",
      " 118. 171. 166. 144.  97. 168.  68.  49.  68. 245. 184. 202. 137.  85.\n",
      " 131. 283. 129.  59. 341.  87.  65. 102. 265. 276. 252.  90. 100.  55.\n",
      "  61.  92. 259.  53. 190. 142.  75. 142. 155. 225.  59. 104. 182. 128.\n",
      "  52.  37. 170. 170.  61. 144.  52. 128.  71. 163. 150.  97. 160. 178.\n",
      "  48. 270. 202. 111.  85.  42. 170. 200. 252. 113. 143.  51.  52. 210.\n",
      "  65. 141.  55. 134.  42. 111.  98. 164.  48.  96.  90. 162. 150. 279.\n",
      "  92.  83. 128. 102. 302. 198.  95.  53. 134. 144. 232.  81. 104.  59.\n",
      " 246. 297. 258. 229. 275. 281. 179. 200. 200. 173. 180.  84. 121. 161.\n",
      "  99. 109. 115. 268. 274. 158. 107.  83. 103. 272.  85. 280. 336. 281.\n",
      " 118. 317. 235.  60. 174. 259. 178. 128.  96. 126. 288.  88. 292.  71.\n",
      " 197. 186.  25.  84.  96. 195.  53. 217. 172. 131. 214.  59.  70. 220.\n",
      " 268. 152.  47.  74. 295. 101. 151. 127. 237. 225.  81. 151. 107.  64.\n",
      " 138. 185. 265. 101. 137. 143. 141.  79. 292. 178.  91. 116.  86. 122.\n",
      "  72. 129. 142.  90. 158.  39. 196. 222. 277.  99. 196. 202. 155.  77.\n",
      " 191.  70.  73.  49.  65. 263. 248. 296. 214. 185.  78.  93. 252. 150.\n",
      "  77. 208.  77. 108. 160.  53. 220. 154. 259.  90. 246. 124.  67.  72.\n",
      " 257. 262. 275. 177.  71.  47. 187. 125.  78.  51. 258. 215. 303. 243.\n",
      "  91. 150. 310. 153. 346.  63.  89.  50.  39. 103. 308. 116. 145.  74.\n",
      "  45. 115. 264.  87. 202. 127. 182. 241.  66.  94. 283.  64. 102. 200.\n",
      " 265.  94. 230. 181. 156. 233.  60. 219.  80.  68. 332. 248.  84. 200.\n",
      "  55.  85.  89.  31. 129.  83. 275.  65. 198. 236. 253. 124.  44. 172.\n",
      " 114. 142. 109. 180. 144. 163. 147.  97. 220. 190. 109. 191. 122. 230.\n",
      " 242. 248. 249. 192. 131. 237.  78. 135. 244. 199. 270. 164.  72.  96.\n",
      " 306.  91. 214.  95. 216. 263. 178. 113. 200. 139. 139.  88. 148.  88.\n",
      " 243.  71.  77. 109. 272.  60.  54. 221.  90. 311. 281. 182. 321.  58.\n",
      " 262. 206. 233. 242. 123. 167.  63. 197.  71. 168. 140. 217. 121. 235.\n",
      " 245.  40.  52. 104. 132.  88.  69. 219.  72. 201. 110.  51. 277.  63.\n",
      " 118.  69. 273. 258.  43. 198. 242. 232. 175.  93. 168. 275. 293. 281.\n",
      "  72. 140. 189. 181. 209. 136. 261. 113. 131. 174. 257.  55.  84.  42.\n",
      " 146. 212. 233.  91. 111. 152. 120.  67. 310.  94. 183.  66. 173.  72.\n",
      "  49.  64.  48. 178. 104. 132. 220.  57.]\n"
     ]
    }
   ],
   "source": [
    "print(y)"
   ]
  },
  {
   "cell_type": "code",
   "execution_count": 89,
   "metadata": {},
   "outputs": [],
   "source": [
    "y1 = y.astype(np.uint8)"
   ]
  },
  {
   "cell_type": "code",
   "execution_count": 90,
   "metadata": {},
   "outputs": [
    {
     "name": "stdout",
     "output_type": "stream",
     "text": [
      "[151  75 141 206 135  97 138  63 110  54 101  69 179 185 118 171 166 144\n",
      "  97 168  68  49  68 245 184 202 137  85 131  27 129  59  85  87  65 102\n",
      "   9  20 252  90 100  55  61  92   3  53 190 142  75 142 155 225  59 104\n",
      " 182 128  52  37 170 170  61 144  52 128  71 163 150  97 160 178  48  14\n",
      " 202 111  85  42 170 200 252 113 143  51  52 210  65 141  55 134  42 111\n",
      "  98 164  48  96  90 162 150  23  92  83 128 102  46 198  95  53 134 144\n",
      " 232  81 104  59 246  41   2 229  19  25 179 200 200 173 180  84 121 161\n",
      "  99 109 115  12  18 158 107  83 103  16  85  24  80  25 118  61 235  60\n",
      " 174   3 178 128  96 126  32  88  36  71 197 186  25  84  96 195  53 217\n",
      " 172 131 214  59  70 220  12 152  47  74  39 101 151 127 237 225  81 151\n",
      " 107  64 138 185   9 101 137 143 141  79  36 178  91 116  86 122  72 129\n",
      " 142  90 158  39 196 222  21  99 196 202 155  77 191  70  73  49  65   7\n",
      " 248  40 214 185  78  93 252 150  77 208  77 108 160  53 220 154   3  90\n",
      " 246 124  67  72   1   6  19 177  71  47 187 125  78  51   2 215  47 243\n",
      "  91 150  54 153  90  63  89  50  39 103  52 116 145  74  45 115   8  87\n",
      " 202 127 182 241  66  94  27  64 102 200   9  94 230 181 156 233  60 219\n",
      "  80  68  76 248  84 200  55  85  89  31 129  83  19  65 198 236 253 124\n",
      "  44 172 114 142 109 180 144 163 147  97 220 190 109 191 122 230 242 248\n",
      " 249 192 131 237  78 135 244 199  14 164  72  96  50  91 214  95 216   7\n",
      " 178 113 200 139 139  88 148  88 243  71  77 109  16  60  54 221  90  55\n",
      "  25 182  65  58   6 206 233 242 123 167  63 197  71 168 140 217 121 235\n",
      " 245  40  52 104 132  88  69 219  72 201 110  51  21  63 118  69  17   2\n",
      "  43 198 242 232 175  93 168  19  37  25  72 140 189 181 209 136   5 113\n",
      " 131 174   1  55  84  42 146 212 233  91 111 152 120  67  54  94 183  66\n",
      " 173  72  49  64  48 178 104 132 220  57]\n"
     ]
    }
   ],
   "source": [
    "print(y1)"
   ]
  },
  {
   "cell_type": "markdown",
   "metadata": {},
   "source": [
    "There are 10 features in x and 442 observations of y."
   ]
  },
  {
   "cell_type": "code",
   "execution_count": 91,
   "metadata": {},
   "outputs": [
    {
     "data": {
      "image/png": "[encoded data removed]",
      "text/plain": [
       "<Figure size 432x288 with 1 Axes>"
      ]
     },
     "metadata": {
      "needs_background": "light"
     },
     "output_type": "display_data"
    }
   ],
   "source": [
    "plt.scatter(x[:,0],\n",
    "            x[:,1],\n",
    "            y)\n",
    "plt.show()"
   ]
  },
  {
   "cell_type": "markdown",
   "metadata": {},
   "source": [
    "To better show the data,I convert it into the dataframe form."
   ]
  },
  {
   "cell_type": "code",
   "execution_count": 92,
   "metadata": {},
   "outputs": [],
   "source": [
    "data = diabetes['data']\n",
    "target = diabetes['target']\n",
    "feature_names = diabetes['feature_names']\n",
    "df =  pd.DataFrame(data,columns = feature_names)"
   ]
  },
  {
   "cell_type": "code",
   "execution_count": 93,
   "metadata": {},
   "outputs": [
    {
     "data": {
      "text/plain": [
       "Index(['age', 'sex', 'bmi', 'bp', 's1', 's2', 's3', 's4', 's5', 's6'], dtype='object')"
      ]
     },
     "execution_count": 93,
     "metadata": {},
     "output_type": "execute_result"
    }
   ],
   "source": [
    "df.columns"
   ]
  },
  {
   "cell_type": "code",
   "execution_count": 98,
   "metadata": {},
   "outputs": [
    {
     "name": "stdout",
     "output_type": "stream",
     "text": [
      "[[1.         0.07604779]\n",
      " [0.07604779 1.        ]]\n",
      "[[1.         0.05958134]\n",
      " [0.05958134 1.        ]]\n",
      "[[1.         0.06731732]\n",
      " [0.06731732 1.        ]]\n",
      "[[1.         0.08843696]\n",
      " [0.08843696 1.        ]]\n",
      "[[1.         0.17504269]\n",
      " [0.17504269 1.        ]]\n",
      "[[1.         0.17088331]\n",
      " [0.17088331 1.        ]]\n",
      "[[ 1.         -0.17674714]\n",
      " [-0.17674714  1.        ]]\n",
      "[[1.         0.22181258]\n",
      " [0.22181258 1.        ]]\n",
      "[[1.         0.23815291]\n",
      " [0.23815291 1.        ]]\n",
      "[[1.         0.00592269]\n",
      " [0.00592269 1.        ]]\n"
     ]
    }
   ],
   "source": [
    "for i in range(len(x[0])):\n",
    "    r_i=np.corrcoef(x[:,i], y1)\n",
    "    print(r_i)"
   ]
  },
  {
   "cell_type": "markdown",
   "metadata": {},
   "source": [
    "The correlation coefficient between s2 and y is the largest among all the 10 coefficients, so I'll perform a linear regression using the feature s2 and y."
   ]
  },
  {
   "cell_type": "code",
   "execution_count": 40,
   "metadata": {},
   "outputs": [],
   "source": [
    "import seaborn as sns\n",
    "import sklearn.linear_model  \n",
    "import sklearn.neighbors\n",
    "import sklearn.model_selection\n",
    "X_8=df.iloc[:,8]\n",
    "Y=y1 \n",
    "X_train,X_test,Y_train,Y_test= sklearn.model_selection.train_test_split(X_8,Y,test_size = 0.2,random_state=42)"
   ]
  },
  {
   "cell_type": "code",
   "execution_count": 41,
   "metadata": {},
   "outputs": [
    {
     "data": {
      "text/plain": [
       "LinearRegression(copy_X=True, fit_intercept=True, n_jobs=1, normalize=False)"
      ]
     },
     "execution_count": 41,
     "metadata": {},
     "output_type": "execute_result"
    }
   ],
   "source": [
    "import sklearn.linear_model\n",
    "import numpy as np\n",
    "model = sklearn.linear_model.LinearRegression()\n",
    "X_train_transformed = X_train.values.reshape(-1,1)\n",
    "X_test_transformed = X_test.values.reshape(-1,1)\n",
    "model.fit(X_train_transformed, Y_train)"
   ]
  },
  {
   "cell_type": "code",
   "execution_count": 42,
   "metadata": {},
   "outputs": [
    {
     "data": {
      "text/plain": [
       "array([325.43381872])"
      ]
     },
     "execution_count": 42,
     "metadata": {},
     "output_type": "execute_result"
    }
   ],
   "source": [
    "model.coef_"
   ]
  },
  {
   "cell_type": "code",
   "execution_count": 43,
   "metadata": {},
   "outputs": [
    {
     "data": {
      "image/png": "[encoded data removed]",
      "text/plain": [
       "<Figure size 432x288 with 1 Axes>"
      ]
     },
     "metadata": {
      "needs_background": "light"
     },
     "output_type": "display_data"
    }
   ],
   "source": [
    "plt.scatter(X_train,Y_train,color='blue')\n",
    "plt.scatter(X_test,Y_test,color='black')\n",
    "k =  model.coef_     \n",
    "b = model.intercept_   \n",
    "x = np.linspace(X_train.min(),X_train.max(),100)\n",
    "y = k * x + b\n",
    "plt.plot(x,y,c='red')\n",
    "plt.show()"
   ]
  },
  {
   "cell_type": "code",
   "execution_count": 45,
   "metadata": {},
   "outputs": [
    {
     "name": "stdout",
     "output_type": "stream",
     "text": [
      "MSE_linreg = 4058.41\n"
     ]
    }
   ],
   "source": [
    "from sklearn.metrics import mean_squared_error, r2_score\n",
    "Y_pred = model.predict(X_test_transformed)\n",
    "print('MSE_linreg = %.2f' % mean_squared_error(Y_test, Y_pred))"
   ]
  },
  {
   "cell_type": "code",
   "execution_count": 67,
   "metadata": {},
   "outputs": [
    {
     "name": "stdout",
     "output_type": "stream",
     "text": [
      "Coefficient of determination R^2: 0.06\n"
     ]
    }
   ],
   "source": [
    "print(\"Coefficient of determination R^2: %.2f\" % \n",
    "      sklearn.metrics.r2_score(Y_test, Y_pred))"
   ]
  },
  {
   "cell_type": "code",
   "execution_count": 57,
   "metadata": {},
   "outputs": [
    {
     "data": {
      "text/plain": [
       "LinearRegression(copy_X=True, fit_intercept=True, n_jobs=1, normalize=False)"
      ]
     },
     "execution_count": 57,
     "metadata": {},
     "output_type": "execute_result"
    }
   ],
   "source": [
    "import sklearn.linear_model\n",
    "import numpy as np\n",
    "model1 = sklearn.linear_model.LinearRegression()\n",
    "df =  pd.DataFrame(data,columns = feature_names)\n",
    "X= diabetes['data'][:,0:9]\n",
    "Y=y1\n",
    "x_train,x_test,Y_train,Y_test= sklearn.model_selection.train_test_split(X,Y,test_size = 0.2,random_state=42)\n",
    "model1.fit(x_train, Y_train)"
   ]
  },
  {
   "cell_type": "code",
   "execution_count": 58,
   "metadata": {},
   "outputs": [
    {
     "data": {
      "text/plain": [
       "array([  39.34126663,  -21.2076275 , -190.70689401,   30.01155589,\n",
       "        454.56356899, -143.2807875 , -418.35663009, -166.77248851,\n",
       "        147.24468538])"
      ]
     },
     "execution_count": 58,
     "metadata": {},
     "output_type": "execute_result"
    }
   ],
   "source": [
    "model1.coef_"
   ]
  },
  {
   "cell_type": "code",
   "execution_count": 69,
   "metadata": {},
   "outputs": [
    {
     "name": "stdout",
     "output_type": "stream",
     "text": [
      "MSE_linreg = 4087.69\n"
     ]
    }
   ],
   "source": [
    "Y1_pred = model1.predict(x_test)\n",
    "print('MSE_linreg = %.2f' % mean_squared_error(Y_test, Y1_pred))"
   ]
  },
  {
   "cell_type": "code",
   "execution_count": 70,
   "metadata": {},
   "outputs": [
    {
     "name": "stdout",
     "output_type": "stream",
     "text": [
      "Coefficient of determination R^2: 0.06\n"
     ]
    }
   ],
   "source": [
    "print(\"Coefficient of determination R^2: %.2f\" % \n",
    "      sklearn.metrics.r2_score(Y_test, Y1_pred))"
   ]
  },
  {
   "cell_type": "markdown",
   "metadata": {},
   "source": [
    "The MSE for model 1 is 4058.41 which is smaller than that of the full model.The R^2 for both models are 0.06, showing the same interpretability."
   ]
  }
 ],
 "metadata": {
  "kernelspec": {
   "display_name": "Python 3",
   "language": "python",
   "name": "python3"
  },
  "language_info": {
   "codemirror_mode": {
    "name": "ipython",
    "version": 3
   },
   "file_extension": ".py",
   "mimetype": "text/x-python",
   "name": "python",
   "nbconvert_exporter": "python",
   "pygments_lexer": "ipython3",
   "version": "3.7.0"
  }
 },
 "nbformat": 4,
 "nbformat_minor": 2
}
